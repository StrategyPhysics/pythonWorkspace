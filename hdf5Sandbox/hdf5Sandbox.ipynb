{
 "cells": [
  {
   "cell_type": "markdown",
   "id": "b09721ea",
   "metadata": {},
   "source": [
    "# hdf5"
   ]
  },
  {
   "cell_type": "code",
   "execution_count": null,
   "id": "9157374f",
   "metadata": {},
   "outputs": [],
   "source": []
  },
  {
   "cell_type": "code",
   "execution_count": 5,
   "id": "f435fead",
   "metadata": {},
   "outputs": [],
   "source": [
    "import numpy as np\n",
    "import h5py\n",
    "from timeit import timeit\n",
    "\n",
    "h5py.enable_ipython_completer()         # https://docs.h5py.org/en/latest/config.html"
   ]
  },
  {
   "cell_type": "code",
   "execution_count": 2,
   "id": "3cca5729",
   "metadata": {},
   "outputs": [],
   "source": [
    "f = h5py.File(\"testfile.hdf5\", \"w\")"
   ]
  },
  {
   "cell_type": "code",
   "execution_count": 3,
   "id": "6221c951",
   "metadata": {},
   "outputs": [
    {
     "name": "stdout",
     "output_type": "stream",
     "text": [
      "<class 'h5py._hl.dataset.Dataset'> float64 (5, 2)\n"
     ]
    }
   ],
   "source": [
    "arr = np.ones((5,2))\n",
    "f[\"my dataset\"] = arr\n",
    "dset = f[\"my dataset\"]\n",
    "\n",
    "print(type(dset), dset.dtype, dset.shape)"
   ]
  },
  {
   "cell_type": "code",
   "execution_count": 6,
   "id": "b5835508",
   "metadata": {},
   "outputs": [
    {
     "data": {
      "text/plain": [
       "(5, 2)"
      ]
     },
     "execution_count": 6,
     "metadata": {},
     "output_type": "execute_result"
    }
   ],
   "source": [
    "dset.shape"
   ]
  },
  {
   "cell_type": "code",
   "execution_count": null,
   "id": "e74133f8",
   "metadata": {},
   "outputs": [],
   "source": []
  }
 ],
 "metadata": {
  "kernelspec": {
   "display_name": "Python 3",
   "language": "python",
   "name": "python3"
  },
  "language_info": {
   "codemirror_mode": {
    "name": "ipython",
    "version": 3
   },
   "file_extension": ".py",
   "mimetype": "text/x-python",
   "name": "python",
   "nbconvert_exporter": "python",
   "pygments_lexer": "ipython3",
   "version": "3.8.8"
  }
 },
 "nbformat": 4,
 "nbformat_minor": 5
}
